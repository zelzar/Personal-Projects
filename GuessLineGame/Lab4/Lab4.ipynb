{
 "cells": [
  {
   "cell_type": "markdown",
   "id": "d926d416",
   "metadata": {},
   "source": [
    "# LAB 4\n",
    "# Webscraping\n",
    "\n",
    "\n",
    "In this lab you are supposed to write a code that webscrapes data from the website <a href=\"http://books.toscrape.com\">http://books.toscrape.com</a>. This website was made for the purpose of practicing webscraping.<br>\n",
    "In fact, the code is already prepared for you and you just need to replace the commented text: <br> \n",
    "<font color=#339988><i><b>\n",
    "\\#YOUR CODE HERE!!!</b></i></font> <br>\n",
    "with appropriate codes.\n",
    "\n",
    "**When you are done, submit both your modified Lab4.ipynb file and its html version Lab4.html. To convert ipynb to html, inside Jupyter dashboard (where your ipynb file is open), go to File $\\to$ Donwload as $\\to$ HTML (.html)**"
   ]
  },
  {
   "cell_type": "code",
   "execution_count": 9,
   "id": "aaf0ce42",
   "metadata": {},
   "outputs": [
    {
     "ename": "ModuleNotFoundError",
     "evalue": "No module named 'pandas'",
     "output_type": "error",
     "traceback": [
      "\u001b[0;31m---------------------------------------------------------------------------\u001b[0m",
      "\u001b[0;31mModuleNotFoundError\u001b[0m                       Traceback (most recent call last)",
      "Cell \u001b[0;32mIn[9], line 4\u001b[0m\n\u001b[1;32m      2\u001b[0m \u001b[38;5;28;01mimport\u001b[39;00m \u001b[38;5;21;01mrequests\u001b[39;00m\n\u001b[1;32m      3\u001b[0m \u001b[38;5;28;01mfrom\u001b[39;00m \u001b[38;5;21;01mbs4\u001b[39;00m \u001b[38;5;28;01mimport\u001b[39;00m BeautifulSoup\n\u001b[0;32m----> 4\u001b[0m \u001b[38;5;28;01mimport\u001b[39;00m \u001b[38;5;21;01mpandas\u001b[39;00m \u001b[38;5;28;01mas\u001b[39;00m \u001b[38;5;21;01mpd\u001b[39;00m\n\u001b[1;32m      5\u001b[0m \u001b[38;5;28;01mimport\u001b[39;00m \u001b[38;5;21;01mmatplotlib\u001b[39;00m\u001b[38;5;21;01m.\u001b[39;00m\u001b[38;5;21;01mpyplot\u001b[39;00m \u001b[38;5;28;01mas\u001b[39;00m \u001b[38;5;21;01mplt\u001b[39;00m\n",
      "\u001b[0;31mModuleNotFoundError\u001b[0m: No module named 'pandas'"
     ]
    }
   ],
   "source": [
    "# Import necessary libraries\n",
    "import requests\n",
    "from bs4 import BeautifulSoup\n",
    "import pandas as pd\n",
    "import matplotlib.pyplot as plt"
   ]
  },
  {
   "cell_type": "code",
   "execution_count": null,
   "id": "51a9a3f8",
   "metadata": {},
   "outputs": [],
   "source": [
    "# vector of column names to be used in a data frame\n",
    "columnHeaders = ['Title', 'Price', 'Rating', 'Link']\n",
    "\n",
    "#Create an empty pandas dataframe called \"df\" with column headers given in the vector columnHeaders\n",
    "##################\n",
    "df = pd.DataFrame(columns=columnHeaders)\n",
    "##################"
   ]
  },
  {
   "cell_type": "markdown",
   "id": "45df52f4",
   "metadata": {},
   "source": [
    "The following code cell contains a while-loop for grabbing different pages.\n",
    "First page to begin with is <a href=\"http://books.toscrape.com/catalogue/page-1.html\">http://books.toscrape.com/catalogue/page-1.html</a> <br>\n",
    "You will need to create a string variable `url` which in the first iteration will be exactly <br>\n",
    "http://books.toscrape.com/catalogue/page-1.html <br>\n",
    "In the second iteration of the while-loop, the `url` variable will take the value <br>\n",
    "http://books.toscrape.com/catalogue/page-2.html, <br>\n",
    "in the third, <br>\n",
    "http://books.toscrape.com/catalogue/page-3.html <br>\n",
    "and so on."
   ]
  },
  {
   "cell_type": "code",
   "execution_count": null,
   "id": "45bf5521",
   "metadata": {},
   "outputs": [],
   "source": [
    "# Create a counter for the while loop to follow, will denote page number in loop\n",
    "counter = 1\n",
    "\n",
    "# Create empty list to store each book \n",
    "bookData = []\n",
    "\n",
    "# Create a loop to loop through all the different pages on the webpage\n",
    "while counter <= 50:\n",
    "    \n",
    "    # Define a dynamic url to get to the next page in every iteration of the while-loop.\n",
    "    # The variable url should be a string, which changes from iteration to iteration\n",
    "    # in the way described in the markdown cell above\n",
    "    #########################\n",
    "    url = \"http://books.toscrape.com/catalogue/page-\" + str(counter) + \".html\"\n",
    "    #########################\n",
    "    \n",
    "    # Use the requests library to send a get-request for the current url\n",
    "    page = requests.get(url)\n",
    "    \n",
    "    # Use Beautiful Soup library to create a soup object that allows us to parse the html content of the page we got\n",
    "    soup = BeautifulSoup(page.content, 'html.parser')\n",
    "    \n",
    "    # Find all the tags that contain the information we would like to collect per book using Beautiful Soup find_all method\n",
    "    # and store them into lists\n",
    "    price = soup.find_all('p', attrs={'class':'price_color'}) # p-tags (paragraphs) whose class is named 'price_color'\n",
    "    title = soup.find_all('h3')  # h3-tags (level 3 headers) \n",
    "    rating = soup.find_all('p', attrs={'class':'star-rating'})  # p-tags whose class is named 'star-rating'\n",
    "    #create a list called 'link' which consists of div-tags (div is one of the html tags), whose class \n",
    "    #is named 'image_container'; this list should be created in similar fashion as lists price, title and rating\n",
    "    ##################\n",
    "    link =  soup.find_all('div', attrs={'class':'image_container'})\n",
    "    ##################\n",
    "    \n",
    "    # Note: The length of the lists created in the last step are all the same, since those specific tags only exist per book.\n",
    "    # iterating through the ranges of the list, append each book's information to the dataframe created earlier\n",
    "   \n",
    "    ## Iterating through each book on current page and storing them into the empty list bookData.\n",
    "    for i in range(len(price)):\n",
    "        \n",
    "        books = {\n",
    "            \n",
    "            'Title': title[i].a.get('title'),\n",
    "            \n",
    "            'Price': price[i].get_text(),\n",
    "            \n",
    "            'Rating': rating[i].get('class')[1],\n",
    "            \n",
    "            'Link': link[i].a.get('href')\n",
    "        }\n",
    "        \n",
    "        bookData.append(books)\n",
    "    \n",
    "    #Print Counter to ensure loop is running properly, optional\n",
    "    print(counter, url)\n",
    "    \n",
    "    #Increase counter at the end of the loop to change the url during next loop iteration\n",
    "    counter = counter + 1\n",
    "    \n",
    "    # filling our empty DataFrame with our books. \n",
    "    df = pd.DataFrame(bookData)"
   ]
  },
  {
   "cell_type": "markdown",
   "id": "0c73e2ca",
   "metadata": {},
   "source": [
    "### From now on it's about pandas "
   ]
  },
  {
   "cell_type": "code",
   "execution_count": null,
   "id": "026af2a0",
   "metadata": {},
   "outputs": [],
   "source": [
    "# Print the head of the dataframe to sanity check\n",
    "print(df.head())"
   ]
  },
  {
   "cell_type": "code",
   "execution_count": null,
   "id": "311bb871",
   "metadata": {},
   "outputs": [],
   "source": [
    "# Print the tail of the dataframe to sanity check (there shold be 1000 observations in total, so the last index is 999)\n",
    "print(df.tail())"
   ]
  },
  {
   "cell_type": "markdown",
   "id": "338ffe0c",
   "metadata": {},
   "source": [
    "You can see that Price column consists of prices in pounds. The first symbol in each component of this column is £ and the values are of str type (i.e. the entries are strings). Check this by printing the type of 1st entry of the Price column (i.e. run the next cell)."
   ]
  },
  {
   "cell_type": "code",
   "execution_count": null,
   "id": "046003ad",
   "metadata": {},
   "outputs": [],
   "source": [
    "type(df['Price'][0])"
   ]
  },
  {
   "cell_type": "markdown",
   "id": "c690a86c",
   "metadata": {},
   "source": [
    "We now want to convert the price into US dollars, assuming that one pound is 1.3 dollars (£1 = $1.3)."
   ]
  },
  {
   "cell_type": "code",
   "execution_count": null,
   "id": "512bd825",
   "metadata": {},
   "outputs": [],
   "source": [
    "#drop the first character (i.e. symbol £) from all entries of column Price\n",
    "df['Price'] = df['Price'].str[1:]\n",
    "\n",
    "#convert the type of Price entries from strings (str) to reals (float)\n",
    "df['Price'] = df['Price'].astype(float)\n",
    "\n",
    "df.head(3)"
   ]
  },
  {
   "cell_type": "code",
   "execution_count": null,
   "id": "d20ac3a5",
   "metadata": {},
   "outputs": [],
   "source": [
    "#convert prices from pounds to dollars (change values of Price column by factor of 1.3)\n",
    "##################\n",
    "df['Price'] = df['Price'] * 1.3\n",
    "##################"
   ]
  },
  {
   "cell_type": "code",
   "execution_count": null,
   "id": "411dd5dc",
   "metadata": {},
   "outputs": [],
   "source": [
    "#checking whether conversion was correct (compare it with the output of the previous cell)\n",
    "df.head(3)"
   ]
  },
  {
   "cell_type": "code",
   "execution_count": null,
   "id": "58340cdb",
   "metadata": {},
   "outputs": [],
   "source": [
    "#change column name 'Price' into '$Price'\n",
    "df.rename(columns={'Price':'$Price'}, inplace = True)"
   ]
  },
  {
   "cell_type": "markdown",
   "id": "8bebd680",
   "metadata": {},
   "source": [
    "### In the following set of cells you need to find the title and the price of the least expensive book and the most expensive book"
   ]
  },
  {
   "cell_type": "code",
   "execution_count": null,
   "id": "d358a431",
   "metadata": {},
   "outputs": [],
   "source": [
    "# Create a data frame df_sorted which consists of data from df, sorted by price \n",
    "# from the cheapest to the most expensive (i.e. in ascending order) \n",
    "##################\n",
    "\n",
    "df_sorted = df.sort_values(by='$Price', ascending=True)\n",
    "##################\n",
    "\n",
    "\n",
    "#print first 10 rows of the data frame df_sorted (note the index labels, which are from the original data frame)\n",
    "##################\n",
    "df_sorted.head(10)\n",
    "##################\n",
    "\n",
    "# Reset the index so that df_sorted is re-indexed 0,1,2,3,... with the new order of the list\n",
    "df_sorted = df_sorted.reset_index(drop=True)\n",
    "df_sorted.head(10) #print first 10 rows of df_sorted"
   ]
  },
  {
   "cell_type": "code",
   "execution_count": null,
   "id": "16f768d1",
   "metadata": {},
   "outputs": [],
   "source": [
    "# Print the title of the cheapest book\n",
    "print(df_sorted['Title'][0])\n",
    "\n",
    "# Print the price of the cheapest book\n",
    "##################\n",
    "print(df_sorted['$Price'][0])\n",
    "##################"
   ]
  },
  {
   "cell_type": "code",
   "execution_count": null,
   "id": "a035c738",
   "metadata": {},
   "outputs": [],
   "source": [
    "# Print the title of the most expensive book\n",
    "##################\n",
    "print(df_sorted['Title'][999])\n",
    "##################\n",
    "\n",
    "# Print the price of the most expensive book\n",
    "##################\n",
    "print(df_sorted['$Price'][999])\n",
    "##################"
   ]
  },
  {
   "cell_type": "markdown",
   "id": "6c614325",
   "metadata": {},
   "source": [
    "### In this part you need to plot the histogram of prices, as well as the bar plot of frequencies of books with various star-rating categories"
   ]
  },
  {
   "cell_type": "code",
   "execution_count": null,
   "id": "82944838",
   "metadata": {},
   "outputs": [],
   "source": [
    "#Use matplotlib to plot a histogram of prices (in dollars) with 20 bins\n",
    "##################\n",
    "# Also create borders for the bins\n",
    "plt.figure(figsize=(10,6))\n",
    "plt.title('Price distribution')\n",
    "plt.xlabel('Price')\n",
    "plt.ylabel('Frequency')\n",
    "plt.hist(df_sorted['$Price'], bins=20, edgecolor='black')\n",
    "plt.show()\n",
    "##################"
   ]
  },
  {
   "cell_type": "code",
   "execution_count": null,
   "id": "f15258e1",
   "metadata": {},
   "outputs": [],
   "source": [
    "# finding the rating frequency distribution (count of books) for all star ratings.\n",
    "# Rating Distribution found by getting the length of the \"list\" where the rating value equals the specified rating\n",
    "print(\"One Star: \" + str(len(df[df['Rating'] == 'One'])))\n",
    "print(\"Two Star: \" + str(len(df[df['Rating'] == 'Two'])))\n",
    "print(\"Three Star: \" + str(len(df[df['Rating'] == 'Three'])))\n",
    "print(\"Four Star: \" + str(len(df[df['Rating'] == 'Four'])))\n",
    "print(\"Five Star: \" + str(len(df[df['Rating'] == 'Five'])))"
   ]
  },
  {
   "cell_type": "code",
   "execution_count": null,
   "id": "476e74f2",
   "metadata": {},
   "outputs": [],
   "source": [
    "# Create a list for the x and y axis labels for a bar plot\n",
    "x_bar = ['One', 'Two', 'Three', 'Four', 'Five']\n",
    "y_bar = [len(df[df['Rating'] == 'One']), len(df[df['Rating'] == 'Two']), len(df[df['Rating'] == 'Three']),\n",
    "        len(df[df['Rating'] == 'Four']), len(df[df['Rating'] == 'Five'])]\n",
    "\n",
    "\n",
    "# Use matplotlib to plot the bar plot\n",
    "##################\n",
    "plt.bar(x_bar, y_bar)\n",
    "##################\n",
    "\n",
    "# Change the x axis title, y axis title, and main title of plot\n",
    "plt.xlabel(\"Star Rating\")\n",
    "plt.ylabel(\"Number of Books\")\n",
    "plt.title(\"Number of Books per Rating\")\n",
    "\n",
    "plt.show()  #needed in script files .py (eg in spyder)"
   ]
  },
  {
   "cell_type": "markdown",
   "id": "091ecdbb",
   "metadata": {},
   "source": [
    "### That's it! You are done!"
   ]
  },
  {
   "cell_type": "markdown",
   "id": "c38cf219",
   "metadata": {},
   "source": [
    "### REMINDER: as mentioned at the beginning of this file, when you are done, submit both your modified Lab4.ipynb file and its html version Lab4.html. To convert ipynb to html, inside Jupyter dashbord (where your ipynb is open), go to File  →  Donwload as  →  HTML (.html)\n",
    "\n",
    "### IMPORTANT: Save to html AFTER you run all the cells and the output is printed out.\n",
    "\n",
    "<br>"
   ]
  },
  {
   "cell_type": "markdown",
   "id": "770d0002",
   "metadata": {},
   "source": [
    "### Appendix"
   ]
  },
  {
   "cell_type": "markdown",
   "id": "52c1f681",
   "metadata": {},
   "source": [
    "##### Here is some more code, for getting the number of books in each category (get url links from main page for all catgories, go through this links and get the number of books per category)"
   ]
  },
  {
   "cell_type": "code",
   "execution_count": null,
   "id": "926a02e5",
   "metadata": {},
   "outputs": [],
   "source": [
    "# Create a new data frame for catgories with specific column headers\n",
    "columnHeaders = ['Category','Count']\n",
    "cat_df = pd.DataFrame(columns = columnHeaders)\n",
    "\n",
    "# Define main url to get all categories, get the page requested, and turn html content into a soup object\n",
    "url = 'http://books.toscrape.com/'\n",
    "page = requests.get(url)\n",
    "soup = BeautifulSoup(page.content, 'html.parser')\n",
    "\n",
    "# Find the section tag that contains all the category urls\n",
    "categories = soup.find('ul', attrs={'class':'nav nav-list'})\n",
    "\n",
    "# Find all the tags, within the categories variable, that contains the links\n",
    "categories_list = categories.find_all('a')\n",
    "\n",
    "# Get all the links from this list of tags\n",
    "for i in range(len(categories_list)):\n",
    "    categories_list[i] = categories_list[i].get('href')\n",
    "\n",
    "# Iterate through the list of category htmls\n",
    "for i in categories_list:\n",
    "    # For each category, go to the page associted with that category and turn it into a soup object\n",
    "    url = 'http://books.toscrape.com/' + i\n",
    "    page = requests.get(url)\n",
    "    soup = BeautifulSoup(page.content, 'html.parser')\n",
    "    \n",
    "    # Find the category name and number of books within that category\n",
    "    cat_title = soup.find('div', attrs={'class':'page-header action'}).h1.get_text()\n",
    "    num_books = soup.find('form', attrs={'class':'form-horizontal'}).strong.get_text()\n",
    "    \n",
    "    # Append to the dataframe the category and number of books\n",
    "    #cat_df = cat_df.append({'Category': cat_title, 'Count': num_books}, ignore_index = True)\n",
    "    \n",
    "    #We need to use pd.concat() instead of cat_df.append() to update the dataframe with the category and number of books\n",
    "    cat_df = pd.concat([cat_df, pd.DataFrame({'Category': [cat_title], 'Count': [num_books]})], ignore_index  = True)\n",
    "                       \n",
    "                       "
   ]
  },
  {
   "cell_type": "markdown",
   "id": "039e916a",
   "metadata": {},
   "source": [
    "What is the distribution of books within each category? Here is the answer."
   ]
  },
  {
   "cell_type": "code",
   "execution_count": null,
   "id": "080319af",
   "metadata": {},
   "outputs": [],
   "source": [
    "# Sort the category list by count of books and print out the distribution\n",
    "cat_df['Count'] = cat_df['Count'].astype(int)\n",
    "cat_df = cat_df.sort_values(by=['Count'])\n",
    "cat_df = cat_df.reset_index(drop=True)\n",
    "print(cat_df)"
   ]
  },
  {
   "cell_type": "markdown",
   "id": "617ab64a",
   "metadata": {},
   "source": [
    "### REMINDER: as mentioned at the beginning of this file, when you are done, submit both your modified Lab4.ipynb file and its html version Lab4.html. To convert ipynb to html, inside Jupyter dashbord (where your ipynb is open), go to File  →  Donwload as  →  HTML (.html)\n",
    "\n",
    "### IMPORTANT: Save to html AFTER you run all the cells and the output is printed out."
   ]
  }
 ],
 "metadata": {
  "kernelspec": {
   "display_name": "Python 3 (ipykernel)",
   "language": "python",
   "name": "python3"
  },
  "language_info": {
   "codemirror_mode": {
    "name": "ipython",
    "version": 3
   },
   "file_extension": ".py",
   "mimetype": "text/x-python",
   "name": "python",
   "nbconvert_exporter": "python",
   "pygments_lexer": "ipython3",
   "version": "3.12.2"
  }
 },
 "nbformat": 4,
 "nbformat_minor": 5
}
